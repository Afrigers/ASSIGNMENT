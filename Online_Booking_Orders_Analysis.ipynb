{
  "cells": [
    {
      "cell_type": "markdown",
      "metadata": {
        "id": "view-in-github",
        "colab_type": "text"
      },
      "source": [
        "<a href=\"https://colab.research.google.com/github/Afrigers/ASSIGNMENT/blob/master/Online_Booking_Orders_Analysis.ipynb\" target=\"_parent\"><img src=\"https://colab.research.google.com/assets/colab-badge.svg\" alt=\"Open In Colab\"/></a>"
      ]
    },
    {
      "cell_type": "code",
      "execution_count": 1,
      "metadata": {
        "id": "5ExJ8A3wTUKm"
      },
      "outputs": [],
      "source": [
        "import pandas as pd\n",
        "import numpy as np\n",
        "import seaborn as sns\n",
        "import matplotlib.pyplot as plt"
      ]
    },
    {
      "cell_type": "code",
      "execution_count": 2,
      "metadata": {
        "colab": {
          "base_uri": "https://localhost:8080/"
        },
        "id": "r_KwKq3Llz42",
        "outputId": "e110fe27-7504-4101-ab83-b1bb3fdeb9f7"
      },
      "outputs": [
        {
          "output_type": "stream",
          "name": "stdout",
          "text": [
            "Mounted at /content/drive/\n"
          ]
        }
      ],
      "source": [
        "from google.colab import drive\n",
        "drive.mount(\"/content/drive/\")"
      ]
    },
    {
      "cell_type": "code",
      "execution_count": 54,
      "metadata": {
        "id": "TNz10er0M0UU"
      },
      "outputs": [],
      "source": [
        "festman_data=pd.read_excel(\"/content/drive/MyDrive/Colab Notebooks/festman_hotel.xlsx\")\n"
      ]
    },
    {
      "cell_type": "markdown",
      "source": [
        "### DATA EXPLORATION\n",
        "\n",
        "``` "
      ],
      "metadata": {
        "id": "Wy1VVF_Q9NEz"
      }
    },
    {
      "cell_type": "code",
      "execution_count": 56,
      "metadata": {
        "colab": {
          "base_uri": "https://localhost:8080/",
          "height": 751
        },
        "id": "WyP8yJH8Q0G_",
        "outputId": "0c4170c3-e8dc-46fd-f08d-feb81bde9ce2"
      },
      "outputs": [
        {
          "output_type": "execute_result",
          "data": {
            "text/plain": [
              "  Booking ID Date of Booking  Year      Time Customer ID  Gender  Age  \\\n",
              "0  DDMY00001      2010-01-01  2010  10:49:40     MY00001    Male   42   \n",
              "1  DDID00002      2010-01-01  2010  09:19:47     ID00001  Female   44   \n",
              "2  DDSG00003      2010-01-01  2010  11:52:56     SG00001  Female   31   \n",
              "3  DDSG00004      2010-01-01  2010  13:44:40     SG00002    Male   28   \n",
              "4  DDKH00005      2010-01-01  2010  05:38:26     KH00001    Male   44   \n",
              "5  DDTH00006      2010-01-01  2010  05:41:55     TH00001    Male   32   \n",
              "6  DDTH00007      2010-01-01  2010  20:14:21     TH00002    Male   49   \n",
              "7  DDMY00008      2010-01-01  2010  00:22:07     MY00002  Female   58   \n",
              "8  DDSG00009      2010-01-01  2010  09:30:32     SG00003    Male   57   \n",
              "9  DDSG00010      2010-01-01  2010  16:22:39     SG00004  Female   41   \n",
              "\n",
              "  Origin Country        State         Location  ...          Hotel Name  \\\n",
              "0       Malaysia        Johor  Iskandar Puteri  ...        Hotel Triton   \n",
              "1      Indonesia        Ciawi        West Java  ...      Enchanted Isle   \n",
              "2      Singapore      Central           Rochor  ...      Seacoast Hotel   \n",
              "3      Singapore        North           Yishun  ...   Night In Paradise   \n",
              "4       Cambodia   Phnom Trop           Pursat  ...     Tiny Digs Hotel   \n",
              "5       Thailand   Chiang Mai       Chiang Mai  ...            Seascape   \n",
              "6       Thailand  Surat Thani      Surat Thani  ...     Waldorf Astoria   \n",
              "7       Malaysia      Sarawak          Kuching  ...  The Westgate Hotel   \n",
              "8      Singapore        North           Mandai  ...       Firefly Motel   \n",
              "9      Singapore         West           Tengah  ...          Cape Grace   \n",
              "\n",
              "  Hotel Rating      Payment Mode                   Bank Name  No. Of Days.1  \\\n",
              "0          4.3            Wallet  United Overseas Bank (UOB)              8   \n",
              "1          4.2            Wallet                     EZ-Link              1   \n",
              "2          4.5       Credit Card                        Grab              7   \n",
              "3          4.2        Debit Card                  DBS Paylah              4   \n",
              "4          4.6            Wallet     Bank of Singapore (BOS)              3   \n",
              "5          4.5  Internet Banking  United Overseas Bank (UOB)              1   \n",
              "6          4.6        Debit Card                        HSBC              3   \n",
              "7          4.1            Wallet                        Cash              1   \n",
              "8          4.4               COD                     EZ-Link              3   \n",
              "9          4.7       Credit Card                        Grab              2   \n",
              "\n",
              "  Rooms.1  Booking Price[SGD] Discount   GST Profit Margin  \n",
              "0       1                 243     0.01  0.07          0.25  \n",
              "1       2                 312     0.00  0.07          0.24  \n",
              "2       2                 338     0.19  0.07          0.20  \n",
              "3       2                 254     0.19  0.07          0.13  \n",
              "4       3                 313     0.15  0.07          0.17  \n",
              "5       1                 161     0.01  0.07          0.15  \n",
              "6       2                 313     0.10  0.07          0.17  \n",
              "7       2                 121     0.05  0.07          0.15  \n",
              "8       2                 173     0.20  0.07          0.22  \n",
              "9       2                 309     0.16  0.07          0.25  \n",
              "\n",
              "[10 rows x 27 columns]"
            ],
            "text/html": [
              "\n",
              "  <div id=\"df-432e4184-e285-4064-8fb8-6fd94d7b16fd\">\n",
              "    <div class=\"colab-df-container\">\n",
              "      <div>\n",
              "<style scoped>\n",
              "    .dataframe tbody tr th:only-of-type {\n",
              "        vertical-align: middle;\n",
              "    }\n",
              "\n",
              "    .dataframe tbody tr th {\n",
              "        vertical-align: top;\n",
              "    }\n",
              "\n",
              "    .dataframe thead th {\n",
              "        text-align: right;\n",
              "    }\n",
              "</style>\n",
              "<table border=\"1\" class=\"dataframe\">\n",
              "  <thead>\n",
              "    <tr style=\"text-align: right;\">\n",
              "      <th></th>\n",
              "      <th>Booking ID</th>\n",
              "      <th>Date of Booking</th>\n",
              "      <th>Year</th>\n",
              "      <th>Time</th>\n",
              "      <th>Customer ID</th>\n",
              "      <th>Gender</th>\n",
              "      <th>Age</th>\n",
              "      <th>Origin Country</th>\n",
              "      <th>State</th>\n",
              "      <th>Location</th>\n",
              "      <th>...</th>\n",
              "      <th>Hotel Name</th>\n",
              "      <th>Hotel Rating</th>\n",
              "      <th>Payment Mode</th>\n",
              "      <th>Bank Name</th>\n",
              "      <th>No. Of Days.1</th>\n",
              "      <th>Rooms.1</th>\n",
              "      <th>Booking Price[SGD]</th>\n",
              "      <th>Discount</th>\n",
              "      <th>GST</th>\n",
              "      <th>Profit Margin</th>\n",
              "    </tr>\n",
              "  </thead>\n",
              "  <tbody>\n",
              "    <tr>\n",
              "      <th>0</th>\n",
              "      <td>DDMY00001</td>\n",
              "      <td>2010-01-01</td>\n",
              "      <td>2010</td>\n",
              "      <td>10:49:40</td>\n",
              "      <td>MY00001</td>\n",
              "      <td>Male</td>\n",
              "      <td>42</td>\n",
              "      <td>Malaysia</td>\n",
              "      <td>Johor</td>\n",
              "      <td>Iskandar Puteri</td>\n",
              "      <td>...</td>\n",
              "      <td>Hotel Triton</td>\n",
              "      <td>4.3</td>\n",
              "      <td>Wallet</td>\n",
              "      <td>United Overseas Bank (UOB)</td>\n",
              "      <td>8</td>\n",
              "      <td>1</td>\n",
              "      <td>243</td>\n",
              "      <td>0.01</td>\n",
              "      <td>0.07</td>\n",
              "      <td>0.25</td>\n",
              "    </tr>\n",
              "    <tr>\n",
              "      <th>1</th>\n",
              "      <td>DDID00002</td>\n",
              "      <td>2010-01-01</td>\n",
              "      <td>2010</td>\n",
              "      <td>09:19:47</td>\n",
              "      <td>ID00001</td>\n",
              "      <td>Female</td>\n",
              "      <td>44</td>\n",
              "      <td>Indonesia</td>\n",
              "      <td>Ciawi</td>\n",
              "      <td>West Java</td>\n",
              "      <td>...</td>\n",
              "      <td>Enchanted Isle</td>\n",
              "      <td>4.2</td>\n",
              "      <td>Wallet</td>\n",
              "      <td>EZ-Link</td>\n",
              "      <td>1</td>\n",
              "      <td>2</td>\n",
              "      <td>312</td>\n",
              "      <td>0.00</td>\n",
              "      <td>0.07</td>\n",
              "      <td>0.24</td>\n",
              "    </tr>\n",
              "    <tr>\n",
              "      <th>2</th>\n",
              "      <td>DDSG00003</td>\n",
              "      <td>2010-01-01</td>\n",
              "      <td>2010</td>\n",
              "      <td>11:52:56</td>\n",
              "      <td>SG00001</td>\n",
              "      <td>Female</td>\n",
              "      <td>31</td>\n",
              "      <td>Singapore</td>\n",
              "      <td>Central</td>\n",
              "      <td>Rochor</td>\n",
              "      <td>...</td>\n",
              "      <td>Seacoast Hotel</td>\n",
              "      <td>4.5</td>\n",
              "      <td>Credit Card</td>\n",
              "      <td>Grab</td>\n",
              "      <td>7</td>\n",
              "      <td>2</td>\n",
              "      <td>338</td>\n",
              "      <td>0.19</td>\n",
              "      <td>0.07</td>\n",
              "      <td>0.20</td>\n",
              "    </tr>\n",
              "    <tr>\n",
              "      <th>3</th>\n",
              "      <td>DDSG00004</td>\n",
              "      <td>2010-01-01</td>\n",
              "      <td>2010</td>\n",
              "      <td>13:44:40</td>\n",
              "      <td>SG00002</td>\n",
              "      <td>Male</td>\n",
              "      <td>28</td>\n",
              "      <td>Singapore</td>\n",
              "      <td>North</td>\n",
              "      <td>Yishun</td>\n",
              "      <td>...</td>\n",
              "      <td>Night In Paradise</td>\n",
              "      <td>4.2</td>\n",
              "      <td>Debit Card</td>\n",
              "      <td>DBS Paylah</td>\n",
              "      <td>4</td>\n",
              "      <td>2</td>\n",
              "      <td>254</td>\n",
              "      <td>0.19</td>\n",
              "      <td>0.07</td>\n",
              "      <td>0.13</td>\n",
              "    </tr>\n",
              "    <tr>\n",
              "      <th>4</th>\n",
              "      <td>DDKH00005</td>\n",
              "      <td>2010-01-01</td>\n",
              "      <td>2010</td>\n",
              "      <td>05:38:26</td>\n",
              "      <td>KH00001</td>\n",
              "      <td>Male</td>\n",
              "      <td>44</td>\n",
              "      <td>Cambodia</td>\n",
              "      <td>Phnom Trop</td>\n",
              "      <td>Pursat</td>\n",
              "      <td>...</td>\n",
              "      <td>Tiny Digs Hotel</td>\n",
              "      <td>4.6</td>\n",
              "      <td>Wallet</td>\n",
              "      <td>Bank of Singapore (BOS)</td>\n",
              "      <td>3</td>\n",
              "      <td>3</td>\n",
              "      <td>313</td>\n",
              "      <td>0.15</td>\n",
              "      <td>0.07</td>\n",
              "      <td>0.17</td>\n",
              "    </tr>\n",
              "    <tr>\n",
              "      <th>5</th>\n",
              "      <td>DDTH00006</td>\n",
              "      <td>2010-01-01</td>\n",
              "      <td>2010</td>\n",
              "      <td>05:41:55</td>\n",
              "      <td>TH00001</td>\n",
              "      <td>Male</td>\n",
              "      <td>32</td>\n",
              "      <td>Thailand</td>\n",
              "      <td>Chiang Mai</td>\n",
              "      <td>Chiang Mai</td>\n",
              "      <td>...</td>\n",
              "      <td>Seascape</td>\n",
              "      <td>4.5</td>\n",
              "      <td>Internet Banking</td>\n",
              "      <td>United Overseas Bank (UOB)</td>\n",
              "      <td>1</td>\n",
              "      <td>1</td>\n",
              "      <td>161</td>\n",
              "      <td>0.01</td>\n",
              "      <td>0.07</td>\n",
              "      <td>0.15</td>\n",
              "    </tr>\n",
              "    <tr>\n",
              "      <th>6</th>\n",
              "      <td>DDTH00007</td>\n",
              "      <td>2010-01-01</td>\n",
              "      <td>2010</td>\n",
              "      <td>20:14:21</td>\n",
              "      <td>TH00002</td>\n",
              "      <td>Male</td>\n",
              "      <td>49</td>\n",
              "      <td>Thailand</td>\n",
              "      <td>Surat Thani</td>\n",
              "      <td>Surat Thani</td>\n",
              "      <td>...</td>\n",
              "      <td>Waldorf Astoria</td>\n",
              "      <td>4.6</td>\n",
              "      <td>Debit Card</td>\n",
              "      <td>HSBC</td>\n",
              "      <td>3</td>\n",
              "      <td>2</td>\n",
              "      <td>313</td>\n",
              "      <td>0.10</td>\n",
              "      <td>0.07</td>\n",
              "      <td>0.17</td>\n",
              "    </tr>\n",
              "    <tr>\n",
              "      <th>7</th>\n",
              "      <td>DDMY00008</td>\n",
              "      <td>2010-01-01</td>\n",
              "      <td>2010</td>\n",
              "      <td>00:22:07</td>\n",
              "      <td>MY00002</td>\n",
              "      <td>Female</td>\n",
              "      <td>58</td>\n",
              "      <td>Malaysia</td>\n",
              "      <td>Sarawak</td>\n",
              "      <td>Kuching</td>\n",
              "      <td>...</td>\n",
              "      <td>The Westgate Hotel</td>\n",
              "      <td>4.1</td>\n",
              "      <td>Wallet</td>\n",
              "      <td>Cash</td>\n",
              "      <td>1</td>\n",
              "      <td>2</td>\n",
              "      <td>121</td>\n",
              "      <td>0.05</td>\n",
              "      <td>0.07</td>\n",
              "      <td>0.15</td>\n",
              "    </tr>\n",
              "    <tr>\n",
              "      <th>8</th>\n",
              "      <td>DDSG00009</td>\n",
              "      <td>2010-01-01</td>\n",
              "      <td>2010</td>\n",
              "      <td>09:30:32</td>\n",
              "      <td>SG00003</td>\n",
              "      <td>Male</td>\n",
              "      <td>57</td>\n",
              "      <td>Singapore</td>\n",
              "      <td>North</td>\n",
              "      <td>Mandai</td>\n",
              "      <td>...</td>\n",
              "      <td>Firefly Motel</td>\n",
              "      <td>4.4</td>\n",
              "      <td>COD</td>\n",
              "      <td>EZ-Link</td>\n",
              "      <td>3</td>\n",
              "      <td>2</td>\n",
              "      <td>173</td>\n",
              "      <td>0.20</td>\n",
              "      <td>0.07</td>\n",
              "      <td>0.22</td>\n",
              "    </tr>\n",
              "    <tr>\n",
              "      <th>9</th>\n",
              "      <td>DDSG00010</td>\n",
              "      <td>2010-01-01</td>\n",
              "      <td>2010</td>\n",
              "      <td>16:22:39</td>\n",
              "      <td>SG00004</td>\n",
              "      <td>Female</td>\n",
              "      <td>41</td>\n",
              "      <td>Singapore</td>\n",
              "      <td>West</td>\n",
              "      <td>Tengah</td>\n",
              "      <td>...</td>\n",
              "      <td>Cape Grace</td>\n",
              "      <td>4.7</td>\n",
              "      <td>Credit Card</td>\n",
              "      <td>Grab</td>\n",
              "      <td>2</td>\n",
              "      <td>2</td>\n",
              "      <td>309</td>\n",
              "      <td>0.16</td>\n",
              "      <td>0.07</td>\n",
              "      <td>0.25</td>\n",
              "    </tr>\n",
              "  </tbody>\n",
              "</table>\n",
              "<p>10 rows × 27 columns</p>\n",
              "</div>\n",
              "      <button class=\"colab-df-convert\" onclick=\"convertToInteractive('df-432e4184-e285-4064-8fb8-6fd94d7b16fd')\"\n",
              "              title=\"Convert this dataframe to an interactive table.\"\n",
              "              style=\"display:none;\">\n",
              "        \n",
              "  <svg xmlns=\"http://www.w3.org/2000/svg\" height=\"24px\"viewBox=\"0 0 24 24\"\n",
              "       width=\"24px\">\n",
              "    <path d=\"M0 0h24v24H0V0z\" fill=\"none\"/>\n",
              "    <path d=\"M18.56 5.44l.94 2.06.94-2.06 2.06-.94-2.06-.94-.94-2.06-.94 2.06-2.06.94zm-11 1L8.5 8.5l.94-2.06 2.06-.94-2.06-.94L8.5 2.5l-.94 2.06-2.06.94zm10 10l.94 2.06.94-2.06 2.06-.94-2.06-.94-.94-2.06-.94 2.06-2.06.94z\"/><path d=\"M17.41 7.96l-1.37-1.37c-.4-.4-.92-.59-1.43-.59-.52 0-1.04.2-1.43.59L10.3 9.45l-7.72 7.72c-.78.78-.78 2.05 0 2.83L4 21.41c.39.39.9.59 1.41.59.51 0 1.02-.2 1.41-.59l7.78-7.78 2.81-2.81c.8-.78.8-2.07 0-2.86zM5.41 20L4 18.59l7.72-7.72 1.47 1.35L5.41 20z\"/>\n",
              "  </svg>\n",
              "      </button>\n",
              "      \n",
              "  <style>\n",
              "    .colab-df-container {\n",
              "      display:flex;\n",
              "      flex-wrap:wrap;\n",
              "      gap: 12px;\n",
              "    }\n",
              "\n",
              "    .colab-df-convert {\n",
              "      background-color: #E8F0FE;\n",
              "      border: none;\n",
              "      border-radius: 50%;\n",
              "      cursor: pointer;\n",
              "      display: none;\n",
              "      fill: #1967D2;\n",
              "      height: 32px;\n",
              "      padding: 0 0 0 0;\n",
              "      width: 32px;\n",
              "    }\n",
              "\n",
              "    .colab-df-convert:hover {\n",
              "      background-color: #E2EBFA;\n",
              "      box-shadow: 0px 1px 2px rgba(60, 64, 67, 0.3), 0px 1px 3px 1px rgba(60, 64, 67, 0.15);\n",
              "      fill: #174EA6;\n",
              "    }\n",
              "\n",
              "    [theme=dark] .colab-df-convert {\n",
              "      background-color: #3B4455;\n",
              "      fill: #D2E3FC;\n",
              "    }\n",
              "\n",
              "    [theme=dark] .colab-df-convert:hover {\n",
              "      background-color: #434B5C;\n",
              "      box-shadow: 0px 1px 3px 1px rgba(0, 0, 0, 0.15);\n",
              "      filter: drop-shadow(0px 1px 2px rgba(0, 0, 0, 0.3));\n",
              "      fill: #FFFFFF;\n",
              "    }\n",
              "  </style>\n",
              "\n",
              "      <script>\n",
              "        const buttonEl =\n",
              "          document.querySelector('#df-432e4184-e285-4064-8fb8-6fd94d7b16fd button.colab-df-convert');\n",
              "        buttonEl.style.display =\n",
              "          google.colab.kernel.accessAllowed ? 'block' : 'none';\n",
              "\n",
              "        async function convertToInteractive(key) {\n",
              "          const element = document.querySelector('#df-432e4184-e285-4064-8fb8-6fd94d7b16fd');\n",
              "          const dataTable =\n",
              "            await google.colab.kernel.invokeFunction('convertToInteractive',\n",
              "                                                     [key], {});\n",
              "          if (!dataTable) return;\n",
              "\n",
              "          const docLinkHtml = 'Like what you see? Visit the ' +\n",
              "            '<a target=\"_blank\" href=https://colab.research.google.com/notebooks/data_table.ipynb>data table notebook</a>'\n",
              "            + ' to learn more about interactive tables.';\n",
              "          element.innerHTML = '';\n",
              "          dataTable['output_type'] = 'display_data';\n",
              "          await google.colab.output.renderOutput(dataTable, element);\n",
              "          const docLink = document.createElement('div');\n",
              "          docLink.innerHTML = docLinkHtml;\n",
              "          element.appendChild(docLink);\n",
              "        }\n",
              "      </script>\n",
              "    </div>\n",
              "  </div>\n",
              "  "
            ]
          },
          "metadata": {},
          "execution_count": 56
        }
      ],
      "source": [
        "festman_data.head(10)"
      ]
    },
    {
      "cell_type": "code",
      "execution_count": 57,
      "metadata": {
        "colab": {
          "base_uri": "https://localhost:8080/",
          "height": 382
        },
        "id": "ebIsl7hdOzqE",
        "outputId": "1539ff21-7b43-4602-a90f-52130899e8b0"
      },
      "outputs": [
        {
          "output_type": "execute_result",
          "data": {
            "text/plain": [
              "               Year           Age  No. Of People   No. Of Days         Rooms  \\\n",
              "count  66535.000000  66535.000000   66535.000000  66535.000000  66535.000000   \n",
              "mean    2015.132396     38.436402       3.995852      3.233787      2.283400   \n",
              "std        2.885649     11.556566       2.000116      3.377939      1.031154   \n",
              "min     2010.000000     19.000000       1.000000      1.000000      1.000000   \n",
              "25%     2013.000000     28.000000       2.000000      1.000000      1.000000   \n",
              "50%     2015.000000     38.000000       4.000000      2.000000      2.000000   \n",
              "75%     2018.000000     48.000000       6.000000      4.000000      3.000000   \n",
              "max     2019.000000     58.000000       7.000000     97.000000      4.000000   \n",
              "\n",
              "       Hotel Rating  No. Of Days.1       Rooms.1  Booking Price[SGD]  \\\n",
              "count  66535.000000   66535.000000  66535.000000        66535.000000   \n",
              "mean       4.288508       3.233787      2.283400          214.054212   \n",
              "std        0.275520       3.377939      1.031154          108.127280   \n",
              "min        3.300000       1.000000      1.000000           35.000000   \n",
              "25%        4.200000       1.000000      1.000000          125.000000   \n",
              "50%        4.300000       2.000000      2.000000          199.000000   \n",
              "75%        4.500000       4.000000      3.000000          293.000000   \n",
              "max        4.700000      97.000000      4.000000          578.000000   \n",
              "\n",
              "           Discount           GST  Profit Margin  \n",
              "count  66535.000000  6.653500e+04   66535.000000  \n",
              "mean       0.125473  7.000000e-02       0.188815  \n",
              "std        0.075115  4.163368e-17       0.052766  \n",
              "min        0.000000  7.000000e-02       0.100000  \n",
              "25%        0.060000  7.000000e-02       0.140000  \n",
              "50%        0.130000  7.000000e-02       0.200000  \n",
              "75%        0.190000  7.000000e-02       0.230000  \n",
              "max        0.250000  7.000000e-02       0.300000  "
            ],
            "text/html": [
              "\n",
              "  <div id=\"df-d006f9bd-2738-4388-81d9-8617082a2703\">\n",
              "    <div class=\"colab-df-container\">\n",
              "      <div>\n",
              "<style scoped>\n",
              "    .dataframe tbody tr th:only-of-type {\n",
              "        vertical-align: middle;\n",
              "    }\n",
              "\n",
              "    .dataframe tbody tr th {\n",
              "        vertical-align: top;\n",
              "    }\n",
              "\n",
              "    .dataframe thead th {\n",
              "        text-align: right;\n",
              "    }\n",
              "</style>\n",
              "<table border=\"1\" class=\"dataframe\">\n",
              "  <thead>\n",
              "    <tr style=\"text-align: right;\">\n",
              "      <th></th>\n",
              "      <th>Year</th>\n",
              "      <th>Age</th>\n",
              "      <th>No. Of People</th>\n",
              "      <th>No. Of Days</th>\n",
              "      <th>Rooms</th>\n",
              "      <th>Hotel Rating</th>\n",
              "      <th>No. Of Days.1</th>\n",
              "      <th>Rooms.1</th>\n",
              "      <th>Booking Price[SGD]</th>\n",
              "      <th>Discount</th>\n",
              "      <th>GST</th>\n",
              "      <th>Profit Margin</th>\n",
              "    </tr>\n",
              "  </thead>\n",
              "  <tbody>\n",
              "    <tr>\n",
              "      <th>count</th>\n",
              "      <td>66535.000000</td>\n",
              "      <td>66535.000000</td>\n",
              "      <td>66535.000000</td>\n",
              "      <td>66535.000000</td>\n",
              "      <td>66535.000000</td>\n",
              "      <td>66535.000000</td>\n",
              "      <td>66535.000000</td>\n",
              "      <td>66535.000000</td>\n",
              "      <td>66535.000000</td>\n",
              "      <td>66535.000000</td>\n",
              "      <td>6.653500e+04</td>\n",
              "      <td>66535.000000</td>\n",
              "    </tr>\n",
              "    <tr>\n",
              "      <th>mean</th>\n",
              "      <td>2015.132396</td>\n",
              "      <td>38.436402</td>\n",
              "      <td>3.995852</td>\n",
              "      <td>3.233787</td>\n",
              "      <td>2.283400</td>\n",
              "      <td>4.288508</td>\n",
              "      <td>3.233787</td>\n",
              "      <td>2.283400</td>\n",
              "      <td>214.054212</td>\n",
              "      <td>0.125473</td>\n",
              "      <td>7.000000e-02</td>\n",
              "      <td>0.188815</td>\n",
              "    </tr>\n",
              "    <tr>\n",
              "      <th>std</th>\n",
              "      <td>2.885649</td>\n",
              "      <td>11.556566</td>\n",
              "      <td>2.000116</td>\n",
              "      <td>3.377939</td>\n",
              "      <td>1.031154</td>\n",
              "      <td>0.275520</td>\n",
              "      <td>3.377939</td>\n",
              "      <td>1.031154</td>\n",
              "      <td>108.127280</td>\n",
              "      <td>0.075115</td>\n",
              "      <td>4.163368e-17</td>\n",
              "      <td>0.052766</td>\n",
              "    </tr>\n",
              "    <tr>\n",
              "      <th>min</th>\n",
              "      <td>2010.000000</td>\n",
              "      <td>19.000000</td>\n",
              "      <td>1.000000</td>\n",
              "      <td>1.000000</td>\n",
              "      <td>1.000000</td>\n",
              "      <td>3.300000</td>\n",
              "      <td>1.000000</td>\n",
              "      <td>1.000000</td>\n",
              "      <td>35.000000</td>\n",
              "      <td>0.000000</td>\n",
              "      <td>7.000000e-02</td>\n",
              "      <td>0.100000</td>\n",
              "    </tr>\n",
              "    <tr>\n",
              "      <th>25%</th>\n",
              "      <td>2013.000000</td>\n",
              "      <td>28.000000</td>\n",
              "      <td>2.000000</td>\n",
              "      <td>1.000000</td>\n",
              "      <td>1.000000</td>\n",
              "      <td>4.200000</td>\n",
              "      <td>1.000000</td>\n",
              "      <td>1.000000</td>\n",
              "      <td>125.000000</td>\n",
              "      <td>0.060000</td>\n",
              "      <td>7.000000e-02</td>\n",
              "      <td>0.140000</td>\n",
              "    </tr>\n",
              "    <tr>\n",
              "      <th>50%</th>\n",
              "      <td>2015.000000</td>\n",
              "      <td>38.000000</td>\n",
              "      <td>4.000000</td>\n",
              "      <td>2.000000</td>\n",
              "      <td>2.000000</td>\n",
              "      <td>4.300000</td>\n",
              "      <td>2.000000</td>\n",
              "      <td>2.000000</td>\n",
              "      <td>199.000000</td>\n",
              "      <td>0.130000</td>\n",
              "      <td>7.000000e-02</td>\n",
              "      <td>0.200000</td>\n",
              "    </tr>\n",
              "    <tr>\n",
              "      <th>75%</th>\n",
              "      <td>2018.000000</td>\n",
              "      <td>48.000000</td>\n",
              "      <td>6.000000</td>\n",
              "      <td>4.000000</td>\n",
              "      <td>3.000000</td>\n",
              "      <td>4.500000</td>\n",
              "      <td>4.000000</td>\n",
              "      <td>3.000000</td>\n",
              "      <td>293.000000</td>\n",
              "      <td>0.190000</td>\n",
              "      <td>7.000000e-02</td>\n",
              "      <td>0.230000</td>\n",
              "    </tr>\n",
              "    <tr>\n",
              "      <th>max</th>\n",
              "      <td>2019.000000</td>\n",
              "      <td>58.000000</td>\n",
              "      <td>7.000000</td>\n",
              "      <td>97.000000</td>\n",
              "      <td>4.000000</td>\n",
              "      <td>4.700000</td>\n",
              "      <td>97.000000</td>\n",
              "      <td>4.000000</td>\n",
              "      <td>578.000000</td>\n",
              "      <td>0.250000</td>\n",
              "      <td>7.000000e-02</td>\n",
              "      <td>0.300000</td>\n",
              "    </tr>\n",
              "  </tbody>\n",
              "</table>\n",
              "</div>\n",
              "      <button class=\"colab-df-convert\" onclick=\"convertToInteractive('df-d006f9bd-2738-4388-81d9-8617082a2703')\"\n",
              "              title=\"Convert this dataframe to an interactive table.\"\n",
              "              style=\"display:none;\">\n",
              "        \n",
              "  <svg xmlns=\"http://www.w3.org/2000/svg\" height=\"24px\"viewBox=\"0 0 24 24\"\n",
              "       width=\"24px\">\n",
              "    <path d=\"M0 0h24v24H0V0z\" fill=\"none\"/>\n",
              "    <path d=\"M18.56 5.44l.94 2.06.94-2.06 2.06-.94-2.06-.94-.94-2.06-.94 2.06-2.06.94zm-11 1L8.5 8.5l.94-2.06 2.06-.94-2.06-.94L8.5 2.5l-.94 2.06-2.06.94zm10 10l.94 2.06.94-2.06 2.06-.94-2.06-.94-.94-2.06-.94 2.06-2.06.94z\"/><path d=\"M17.41 7.96l-1.37-1.37c-.4-.4-.92-.59-1.43-.59-.52 0-1.04.2-1.43.59L10.3 9.45l-7.72 7.72c-.78.78-.78 2.05 0 2.83L4 21.41c.39.39.9.59 1.41.59.51 0 1.02-.2 1.41-.59l7.78-7.78 2.81-2.81c.8-.78.8-2.07 0-2.86zM5.41 20L4 18.59l7.72-7.72 1.47 1.35L5.41 20z\"/>\n",
              "  </svg>\n",
              "      </button>\n",
              "      \n",
              "  <style>\n",
              "    .colab-df-container {\n",
              "      display:flex;\n",
              "      flex-wrap:wrap;\n",
              "      gap: 12px;\n",
              "    }\n",
              "\n",
              "    .colab-df-convert {\n",
              "      background-color: #E8F0FE;\n",
              "      border: none;\n",
              "      border-radius: 50%;\n",
              "      cursor: pointer;\n",
              "      display: none;\n",
              "      fill: #1967D2;\n",
              "      height: 32px;\n",
              "      padding: 0 0 0 0;\n",
              "      width: 32px;\n",
              "    }\n",
              "\n",
              "    .colab-df-convert:hover {\n",
              "      background-color: #E2EBFA;\n",
              "      box-shadow: 0px 1px 2px rgba(60, 64, 67, 0.3), 0px 1px 3px 1px rgba(60, 64, 67, 0.15);\n",
              "      fill: #174EA6;\n",
              "    }\n",
              "\n",
              "    [theme=dark] .colab-df-convert {\n",
              "      background-color: #3B4455;\n",
              "      fill: #D2E3FC;\n",
              "    }\n",
              "\n",
              "    [theme=dark] .colab-df-convert:hover {\n",
              "      background-color: #434B5C;\n",
              "      box-shadow: 0px 1px 3px 1px rgba(0, 0, 0, 0.15);\n",
              "      filter: drop-shadow(0px 1px 2px rgba(0, 0, 0, 0.3));\n",
              "      fill: #FFFFFF;\n",
              "    }\n",
              "  </style>\n",
              "\n",
              "      <script>\n",
              "        const buttonEl =\n",
              "          document.querySelector('#df-d006f9bd-2738-4388-81d9-8617082a2703 button.colab-df-convert');\n",
              "        buttonEl.style.display =\n",
              "          google.colab.kernel.accessAllowed ? 'block' : 'none';\n",
              "\n",
              "        async function convertToInteractive(key) {\n",
              "          const element = document.querySelector('#df-d006f9bd-2738-4388-81d9-8617082a2703');\n",
              "          const dataTable =\n",
              "            await google.colab.kernel.invokeFunction('convertToInteractive',\n",
              "                                                     [key], {});\n",
              "          if (!dataTable) return;\n",
              "\n",
              "          const docLinkHtml = 'Like what you see? Visit the ' +\n",
              "            '<a target=\"_blank\" href=https://colab.research.google.com/notebooks/data_table.ipynb>data table notebook</a>'\n",
              "            + ' to learn more about interactive tables.';\n",
              "          element.innerHTML = '';\n",
              "          dataTable['output_type'] = 'display_data';\n",
              "          await google.colab.output.renderOutput(dataTable, element);\n",
              "          const docLink = document.createElement('div');\n",
              "          docLink.innerHTML = docLinkHtml;\n",
              "          element.appendChild(docLink);\n",
              "        }\n",
              "      </script>\n",
              "    </div>\n",
              "  </div>\n",
              "  "
            ]
          },
          "metadata": {},
          "execution_count": 57
        }
      ],
      "source": [
        "festman_data.describe()"
      ]
    },
    {
      "cell_type": "code",
      "execution_count": 58,
      "metadata": {
        "colab": {
          "base_uri": "https://localhost:8080/"
        },
        "id": "fdshmfRJS1Ul",
        "outputId": "09f2048e-02c7-4a32-f27b-5bef3632daaa"
      },
      "outputs": [
        {
          "output_type": "stream",
          "name": "stdout",
          "text": [
            "<class 'pandas.core.frame.DataFrame'>\n",
            "RangeIndex: 66535 entries, 0 to 66534\n",
            "Data columns (total 27 columns):\n",
            " #   Column               Non-Null Count  Dtype         \n",
            "---  ------               --------------  -----         \n",
            " 0   Booking ID           66535 non-null  object        \n",
            " 1   Date of Booking      66535 non-null  datetime64[ns]\n",
            " 2   Year                 66535 non-null  int64         \n",
            " 3   Time                 66535 non-null  object        \n",
            " 4   Customer ID          66535 non-null  object        \n",
            " 5   Gender               66535 non-null  object        \n",
            " 6   Age                  66535 non-null  int64         \n",
            " 7   Origin Country       66535 non-null  object        \n",
            " 8   State                66535 non-null  object        \n",
            " 9   Location             66535 non-null  object        \n",
            " 10  Destination Country  66535 non-null  object        \n",
            " 11  Destination City     66535 non-null  object        \n",
            " 12  No. Of People        66535 non-null  int64         \n",
            " 13  Check-in date        66535 non-null  datetime64[ns]\n",
            " 14  No. Of Days          66535 non-null  int64         \n",
            " 15  Check-Out Date       66535 non-null  datetime64[ns]\n",
            " 16  Rooms                66535 non-null  int64         \n",
            " 17  Hotel Name           66535 non-null  object        \n",
            " 18  Hotel Rating         66535 non-null  float64       \n",
            " 19  Payment Mode         66535 non-null  object        \n",
            " 20  Bank Name            66535 non-null  object        \n",
            " 21  No. Of Days.1        66535 non-null  int64         \n",
            " 22  Rooms.1              66535 non-null  int64         \n",
            " 23  Booking Price[SGD]   66535 non-null  int64         \n",
            " 24  Discount             66535 non-null  float64       \n",
            " 25  GST                  66535 non-null  float64       \n",
            " 26  Profit Margin        66535 non-null  float64       \n",
            "dtypes: datetime64[ns](3), float64(4), int64(8), object(12)\n",
            "memory usage: 13.7+ MB\n"
          ]
        }
      ],
      "source": [
        "festman_data.info()"
      ]
    },
    {
      "cell_type": "markdown",
      "source": [
        "**DATA ANALYSIS**\n",
        "\n"
      ],
      "metadata": {
        "id": "-DZPsqjO9p92"
      }
    },
    {
      "cell_type": "markdown",
      "metadata": {
        "id": "IEEXM901TsiF"
      },
      "source": [
        "### Top destination by customers\n"
      ]
    },
    {
      "cell_type": "code",
      "execution_count": 11,
      "metadata": {
        "colab": {
          "base_uri": "https://localhost:8080/"
        },
        "id": "YnO1whz6ZQ6N",
        "outputId": "26d80a80-79ef-482b-8818-325de9a6008e"
      },
      "outputs": [
        {
          "output_type": "execute_result",
          "data": {
            "text/plain": [
              "Destination Country\n",
              "Brazil         3241\n",
              "Canada         3331\n",
              "China          3391\n",
              "Colombia       3408\n",
              "Denmark        3375\n",
              "Egypt          3422\n",
              "France         3346\n",
              "Germany        3300\n",
              "Iceland        3344\n",
              "India          3290\n",
              "Iran           3172\n",
              "Ireland        3316\n",
              "Israel         3356\n",
              "Italy          3340\n",
              "Japan          3255\n",
              "Kenya          3233\n",
              "Maldives       3265\n",
              "Mexico         3257\n",
              "Nepal          3446\n",
              "New Zealand    3447\n",
              "Name: Destination City, dtype: int64"
            ]
          },
          "metadata": {},
          "execution_count": 11
        }
      ],
      "source": [
        "festman_data.groupby(\"Destination Country\")[\"Destination City\"].count()"
      ]
    },
    {
      "cell_type": "code",
      "source": [
        "### Top 10  Location preffered by Festman Customers\n",
        "ten_locations=festman_data.groupby(\"Destination Country\")[\"Destination City\"].count().sort_values(ascending=False).head(10)\n",
        "ten_locations.plot(kind=\"bar\", color=\"b\",figsize=(12,8), xlabel=\"Destination Countries\", ylabel=\"Total customers\", title=\" Top 10 most Preferred Destination\")\n",
        "plt.figure(figsize=(10,5))\n",
        "plt.show()"
      ],
      "metadata": {
        "colab": {
          "base_uri": "https://localhost:8080/",
          "height": 586
        },
        "id": "ZCTYDhoa-Wgb",
        "outputId": "7bb2193d-a958-4bcc-8005-0b5a6755d252"
      },
      "execution_count": 89,
      "outputs": [
        {
          "output_type": "display_data",
          "data": {
            "text/plain": [
              "<Figure size 864x576 with 1 Axes>"
            ],
            "image/png": "[encoded data removed]"
          },
          "metadata": {
            "needs_background": "light"
          }
        },
        {
          "output_type": "display_data",
          "data": {
            "text/plain": [
              "<Figure size 720x360 with 0 Axes>"
            ]
          },
          "metadata": {}
        }
      ]
    },
    {
      "cell_type": "markdown",
      "source": [
        "The top most preferred destination for our customers are New Zealand , Nepal, Egypt, Colombia and China Respectively with a total of 3447,3446,3442,3408 and 3391 customers respectively."
      ],
      "metadata": {
        "id": "d7ob33JVunOB"
      }
    },
    {
      "cell_type": "markdown",
      "source": [
        " **Customer Demographics by Gender.**\n",
        "\n",
        " "
      ],
      "metadata": {
        "id": "3Bns4SQLvJBS"
      }
    },
    {
      "cell_type": "code",
      "source": [
        "gender=festman_data.groupby(\"Gender\")[\"Customer ID\"].count()\n",
        "gender"
      ],
      "metadata": {
        "colab": {
          "base_uri": "https://localhost:8080/"
        },
        "id": "rBe0wS6PvPLY",
        "outputId": "20d6d4f3-6b9b-4a37-f64d-721b096b8ac4"
      },
      "execution_count": 75,
      "outputs": [
        {
          "output_type": "execute_result",
          "data": {
            "text/plain": [
              "Gender\n",
              "Female    33387\n",
              "Male      33148\n",
              "Name: Customer ID, dtype: int64"
            ]
          },
          "metadata": {},
          "execution_count": 75
        }
      ]
    },
    {
      "cell_type": "markdown",
      "source": [
        "Plotting of total customers by Gender"
      ],
      "metadata": {
        "id": "eyuJJQClwodO"
      }
    },
    {
      "cell_type": "code",
      "source": [
        "gender.plot(kind=\"bar\", figsize=(12,8),color=\"b\", ylabel=\"Total customers\", xlabel=\"Gender\", title=\"Total customers by Gender\")\n",
        "plt.show()"
      ],
      "metadata": {
        "colab": {
          "base_uri": "https://localhost:8080/",
          "height": 539
        },
        "id": "P9OYo6K9wzUh",
        "outputId": "27d70e28-7ffc-4fd1-9e63-6a6f09d8df05"
      },
      "execution_count": 110,
      "outputs": [
        {
          "output_type": "display_data",
          "data": {
            "text/plain": [
              "<Figure size 864x576 with 1 Axes>"
            ],
            "image/png": "[encoded data removed]"
          },
          "metadata": {
            "needs_background": "light"
          }
        }
      ]
    },
    {
      "cell_type": "markdown",
      "source": [
        "Customer Demographics by age group"
      ],
      "metadata": {
        "id": "nmaf8iKww2gN"
      }
    },
    {
      "cell_type": "code",
      "source": [
        "# let fd represents festman_data\n",
        "fd=festman_data"
      ],
      "metadata": {
        "id": "0CJmVsIUxBSL"
      },
      "execution_count": 98,
      "outputs": []
    },
    {
      "cell_type": "code",
      "source": [
        "Values=[\"19-29\",\"30-39\",\"40-49\",\"50-59\"]\n",
        "conditions=[\n",
        "    (fd[\"Age\"]<=29), \n",
        "    (fd[\"Age\"]>29) & (fd[\"Age\"]<=39),\n",
        "    (fd[\"Age\"]>39) & (fd[\"Age\"]<=49),\n",
        "    (fd[\"Age\"]>49)\n",
        "]"
      ],
      "metadata": {
        "id": "yuZF5d7jNinm"
      },
      "execution_count": 99,
      "outputs": []
    },
    {
      "cell_type": "code",
      "source": [
        "fd[\"Age Group\"]=np.select(conditions,Values)"
      ],
      "metadata": {
        "id": "NfcK7TEnQ1bQ"
      },
      "execution_count": 100,
      "outputs": []
    },
    {
      "cell_type": "code",
      "source": [
        "fd.head()"
      ],
      "metadata": {
        "colab": {
          "base_uri": "https://localhost:8080/",
          "height": 456
        },
        "id": "fO1_lwGpRJAR",
        "outputId": "18beaab6-ca3a-4444-ab41-a6b83eaa470a"
      },
      "execution_count": 97,
      "outputs": [
        {
          "output_type": "execute_result",
          "data": {
            "text/plain": [
              "  Booking ID Date of Booking  Year      Time Customer ID  Gender  Age  \\\n",
              "0  DDMY00001      2010-01-01  2010  10:49:40     MY00001    Male   42   \n",
              "1  DDID00002      2010-01-01  2010  09:19:47     ID00001  Female   44   \n",
              "2  DDSG00003      2010-01-01  2010  11:52:56     SG00001  Female   31   \n",
              "3  DDSG00004      2010-01-01  2010  13:44:40     SG00002    Male   28   \n",
              "4  DDKH00005      2010-01-01  2010  05:38:26     KH00001    Male   44   \n",
              "\n",
              "  Origin Country       State         Location  ... Hotel Rating Payment Mode  \\\n",
              "0       Malaysia       Johor  Iskandar Puteri  ...          4.3       Wallet   \n",
              "1      Indonesia       Ciawi        West Java  ...          4.2       Wallet   \n",
              "2      Singapore     Central           Rochor  ...          4.5  Credit Card   \n",
              "3      Singapore       North           Yishun  ...          4.2   Debit Card   \n",
              "4       Cambodia  Phnom Trop           Pursat  ...          4.6       Wallet   \n",
              "\n",
              "                    Bank Name No. Of Days.1  Rooms.1 Booking Price[SGD]  \\\n",
              "0  United Overseas Bank (UOB)             8        1                243   \n",
              "1                     EZ-Link             1        2                312   \n",
              "2                        Grab             7        2                338   \n",
              "3                  DBS Paylah             4        2                254   \n",
              "4     Bank of Singapore (BOS)             3        3                313   \n",
              "\n",
              "   Discount   GST  Profit Margin Age Group  \n",
              "0      0.01  0.07           0.25     40-49  \n",
              "1      0.00  0.07           0.24     40-49  \n",
              "2      0.19  0.07           0.20     30-39  \n",
              "3      0.19  0.07           0.13     19-29  \n",
              "4      0.15  0.07           0.17     40-49  \n",
              "\n",
              "[5 rows x 28 columns]"
            ],
            "text/html": [
              "\n",
              "  <div id=\"df-7c935bae-ba0c-480a-b682-5c8130784487\">\n",
              "    <div class=\"colab-df-container\">\n",
              "      <div>\n",
              "<style scoped>\n",
              "    .dataframe tbody tr th:only-of-type {\n",
              "        vertical-align: middle;\n",
              "    }\n",
              "\n",
              "    .dataframe tbody tr th {\n",
              "        vertical-align: top;\n",
              "    }\n",
              "\n",
              "    .dataframe thead th {\n",
              "        text-align: right;\n",
              "    }\n",
              "</style>\n",
              "<table border=\"1\" class=\"dataframe\">\n",
              "  <thead>\n",
              "    <tr style=\"text-align: right;\">\n",
              "      <th></th>\n",
              "      <th>Booking ID</th>\n",
              "      <th>Date of Booking</th>\n",
              "      <th>Year</th>\n",
              "      <th>Time</th>\n",
              "      <th>Customer ID</th>\n",
              "      <th>Gender</th>\n",
              "      <th>Age</th>\n",
              "      <th>Origin Country</th>\n",
              "      <th>State</th>\n",
              "      <th>Location</th>\n",
              "      <th>...</th>\n",
              "      <th>Hotel Rating</th>\n",
              "      <th>Payment Mode</th>\n",
              "      <th>Bank Name</th>\n",
              "      <th>No. Of Days.1</th>\n",
              "      <th>Rooms.1</th>\n",
              "      <th>Booking Price[SGD]</th>\n",
              "      <th>Discount</th>\n",
              "      <th>GST</th>\n",
              "      <th>Profit Margin</th>\n",
              "      <th>Age Group</th>\n",
              "    </tr>\n",
              "  </thead>\n",
              "  <tbody>\n",
              "    <tr>\n",
              "      <th>0</th>\n",
              "      <td>DDMY00001</td>\n",
              "      <td>2010-01-01</td>\n",
              "      <td>2010</td>\n",
              "      <td>10:49:40</td>\n",
              "      <td>MY00001</td>\n",
              "      <td>Male</td>\n",
              "      <td>42</td>\n",
              "      <td>Malaysia</td>\n",
              "      <td>Johor</td>\n",
              "      <td>Iskandar Puteri</td>\n",
              "      <td>...</td>\n",
              "      <td>4.3</td>\n",
              "      <td>Wallet</td>\n",
              "      <td>United Overseas Bank (UOB)</td>\n",
              "      <td>8</td>\n",
              "      <td>1</td>\n",
              "      <td>243</td>\n",
              "      <td>0.01</td>\n",
              "      <td>0.07</td>\n",
              "      <td>0.25</td>\n",
              "      <td>40-49</td>\n",
              "    </tr>\n",
              "    <tr>\n",
              "      <th>1</th>\n",
              "      <td>DDID00002</td>\n",
              "      <td>2010-01-01</td>\n",
              "      <td>2010</td>\n",
              "      <td>09:19:47</td>\n",
              "      <td>ID00001</td>\n",
              "      <td>Female</td>\n",
              "      <td>44</td>\n",
              "      <td>Indonesia</td>\n",
              "      <td>Ciawi</td>\n",
              "      <td>West Java</td>\n",
              "      <td>...</td>\n",
              "      <td>4.2</td>\n",
              "      <td>Wallet</td>\n",
              "      <td>EZ-Link</td>\n",
              "      <td>1</td>\n",
              "      <td>2</td>\n",
              "      <td>312</td>\n",
              "      <td>0.00</td>\n",
              "      <td>0.07</td>\n",
              "      <td>0.24</td>\n",
              "      <td>40-49</td>\n",
              "    </tr>\n",
              "    <tr>\n",
              "      <th>2</th>\n",
              "      <td>DDSG00003</td>\n",
              "      <td>2010-01-01</td>\n",
              "      <td>2010</td>\n",
              "      <td>11:52:56</td>\n",
              "      <td>SG00001</td>\n",
              "      <td>Female</td>\n",
              "      <td>31</td>\n",
              "      <td>Singapore</td>\n",
              "      <td>Central</td>\n",
              "      <td>Rochor</td>\n",
              "      <td>...</td>\n",
              "      <td>4.5</td>\n",
              "      <td>Credit Card</td>\n",
              "      <td>Grab</td>\n",
              "      <td>7</td>\n",
              "      <td>2</td>\n",
              "      <td>338</td>\n",
              "      <td>0.19</td>\n",
              "      <td>0.07</td>\n",
              "      <td>0.20</td>\n",
              "      <td>30-39</td>\n",
              "    </tr>\n",
              "    <tr>\n",
              "      <th>3</th>\n",
              "      <td>DDSG00004</td>\n",
              "      <td>2010-01-01</td>\n",
              "      <td>2010</td>\n",
              "      <td>13:44:40</td>\n",
              "      <td>SG00002</td>\n",
              "      <td>Male</td>\n",
              "      <td>28</td>\n",
              "      <td>Singapore</td>\n",
              "      <td>North</td>\n",
              "      <td>Yishun</td>\n",
              "      <td>...</td>\n",
              "      <td>4.2</td>\n",
              "      <td>Debit Card</td>\n",
              "      <td>DBS Paylah</td>\n",
              "      <td>4</td>\n",
              "      <td>2</td>\n",
              "      <td>254</td>\n",
              "      <td>0.19</td>\n",
              "      <td>0.07</td>\n",
              "      <td>0.13</td>\n",
              "      <td>19-29</td>\n",
              "    </tr>\n",
              "    <tr>\n",
              "      <th>4</th>\n",
              "      <td>DDKH00005</td>\n",
              "      <td>2010-01-01</td>\n",
              "      <td>2010</td>\n",
              "      <td>05:38:26</td>\n",
              "      <td>KH00001</td>\n",
              "      <td>Male</td>\n",
              "      <td>44</td>\n",
              "      <td>Cambodia</td>\n",
              "      <td>Phnom Trop</td>\n",
              "      <td>Pursat</td>\n",
              "      <td>...</td>\n",
              "      <td>4.6</td>\n",
              "      <td>Wallet</td>\n",
              "      <td>Bank of Singapore (BOS)</td>\n",
              "      <td>3</td>\n",
              "      <td>3</td>\n",
              "      <td>313</td>\n",
              "      <td>0.15</td>\n",
              "      <td>0.07</td>\n",
              "      <td>0.17</td>\n",
              "      <td>40-49</td>\n",
              "    </tr>\n",
              "  </tbody>\n",
              "</table>\n",
              "<p>5 rows × 28 columns</p>\n",
              "</div>\n",
              "      <button class=\"colab-df-convert\" onclick=\"convertToInteractive('df-7c935bae-ba0c-480a-b682-5c8130784487')\"\n",
              "              title=\"Convert this dataframe to an interactive table.\"\n",
              "              style=\"display:none;\">\n",
              "        \n",
              "  <svg xmlns=\"http://www.w3.org/2000/svg\" height=\"24px\"viewBox=\"0 0 24 24\"\n",
              "       width=\"24px\">\n",
              "    <path d=\"M0 0h24v24H0V0z\" fill=\"none\"/>\n",
              "    <path d=\"M18.56 5.44l.94 2.06.94-2.06 2.06-.94-2.06-.94-.94-2.06-.94 2.06-2.06.94zm-11 1L8.5 8.5l.94-2.06 2.06-.94-2.06-.94L8.5 2.5l-.94 2.06-2.06.94zm10 10l.94 2.06.94-2.06 2.06-.94-2.06-.94-.94-2.06-.94 2.06-2.06.94z\"/><path d=\"M17.41 7.96l-1.37-1.37c-.4-.4-.92-.59-1.43-.59-.52 0-1.04.2-1.43.59L10.3 9.45l-7.72 7.72c-.78.78-.78 2.05 0 2.83L4 21.41c.39.39.9.59 1.41.59.51 0 1.02-.2 1.41-.59l7.78-7.78 2.81-2.81c.8-.78.8-2.07 0-2.86zM5.41 20L4 18.59l7.72-7.72 1.47 1.35L5.41 20z\"/>\n",
              "  </svg>\n",
              "      </button>\n",
              "      \n",
              "  <style>\n",
              "    .colab-df-container {\n",
              "      display:flex;\n",
              "      flex-wrap:wrap;\n",
              "      gap: 12px;\n",
              "    }\n",
              "\n",
              "    .colab-df-convert {\n",
              "      background-color: #E8F0FE;\n",
              "      border: none;\n",
              "      border-radius: 50%;\n",
              "      cursor: pointer;\n",
              "      display: none;\n",
              "      fill: #1967D2;\n",
              "      height: 32px;\n",
              "      padding: 0 0 0 0;\n",
              "      width: 32px;\n",
              "    }\n",
              "\n",
              "    .colab-df-convert:hover {\n",
              "      background-color: #E2EBFA;\n",
              "      box-shadow: 0px 1px 2px rgba(60, 64, 67, 0.3), 0px 1px 3px 1px rgba(60, 64, 67, 0.15);\n",
              "      fill: #174EA6;\n",
              "    }\n",
              "\n",
              "    [theme=dark] .colab-df-convert {\n",
              "      background-color: #3B4455;\n",
              "      fill: #D2E3FC;\n",
              "    }\n",
              "\n",
              "    [theme=dark] .colab-df-convert:hover {\n",
              "      background-color: #434B5C;\n",
              "      box-shadow: 0px 1px 3px 1px rgba(0, 0, 0, 0.15);\n",
              "      filter: drop-shadow(0px 1px 2px rgba(0, 0, 0, 0.3));\n",
              "      fill: #FFFFFF;\n",
              "    }\n",
              "  </style>\n",
              "\n",
              "      <script>\n",
              "        const buttonEl =\n",
              "          document.querySelector('#df-7c935bae-ba0c-480a-b682-5c8130784487 button.colab-df-convert');\n",
              "        buttonEl.style.display =\n",
              "          google.colab.kernel.accessAllowed ? 'block' : 'none';\n",
              "\n",
              "        async function convertToInteractive(key) {\n",
              "          const element = document.querySelector('#df-7c935bae-ba0c-480a-b682-5c8130784487');\n",
              "          const dataTable =\n",
              "            await google.colab.kernel.invokeFunction('convertToInteractive',\n",
              "                                                     [key], {});\n",
              "          if (!dataTable) return;\n",
              "\n",
              "          const docLinkHtml = 'Like what you see? Visit the ' +\n",
              "            '<a target=\"_blank\" href=https://colab.research.google.com/notebooks/data_table.ipynb>data table notebook</a>'\n",
              "            + ' to learn more about interactive tables.';\n",
              "          element.innerHTML = '';\n",
              "          dataTable['output_type'] = 'display_data';\n",
              "          await google.colab.output.renderOutput(dataTable, element);\n",
              "          const docLink = document.createElement('div');\n",
              "          docLink.innerHTML = docLinkHtml;\n",
              "          element.appendChild(docLink);\n",
              "        }\n",
              "      </script>\n",
              "    </div>\n",
              "  </div>\n",
              "  "
            ]
          },
          "metadata": {},
          "execution_count": 97
        }
      ]
    },
    {
      "cell_type": "code",
      "source": [
        "age_grp=fd.groupby(\"Age Group\")[\"Customer ID\"].count()\n",
        "age_grp.plot(kind=\"bar\", figsize=(12,8), color=\"b\", xlabel=\"Age group\", ylabel=\"Total Customers\", title=\"Total Customers by Age group\")\n",
        "plt.show()"
      ],
      "metadata": {
        "colab": {
          "base_uri": "https://localhost:8080/",
          "height": 532
        },
        "id": "OBKFgz_7Rw5a",
        "outputId": "4951c36c-5c57-431b-fa7b-9703be8a7c18"
      },
      "execution_count": 103,
      "outputs": [
        {
          "output_type": "display_data",
          "data": {
            "text/plain": [
              "<Figure size 864x576 with 1 Axes>"
            ],
            "image/png": "[encoded data removed]"
          },
          "metadata": {
            "needs_background": "light"
          }
        }
      ]
    },
    {
      "cell_type": "markdown",
      "source": [
        "Customers Demographics by Location"
      ],
      "metadata": {
        "id": "e3JezgcQxFXj"
      }
    },
    {
      "cell_type": "code",
      "source": [
        "location=festman_data.groupby(\"Location\")[\"Customer ID\"].count().sort_values(ascending=False).head(5)\n",
        "location"
      ],
      "metadata": {
        "colab": {
          "base_uri": "https://localhost:8080/"
        },
        "id": "jvV5tmaaxKGz",
        "outputId": "8b5abf84-9275-4844-e57b-a0a26348e000"
      },
      "execution_count": 81,
      "outputs": [
        {
          "output_type": "execute_result",
          "data": {
            "text/plain": [
              "Location\n",
              "Jakarta      3519\n",
              "West Java    1521\n",
              "Papua        1458\n",
              "Kuching       984\n",
              "Ipoh          978\n",
              "Name: Customer ID, dtype: int64"
            ]
          },
          "metadata": {},
          "execution_count": 81
        }
      ]
    },
    {
      "cell_type": "code",
      "source": [
        "location.plot(kind=\"bar\", figsize=(12,8), color=\"b\", xlabel=\"Location\", ylabel=\"Total Customers\", title=\"Locations with the Most Customers\")\n",
        "plt.show()"
      ],
      "metadata": {
        "colab": {
          "base_uri": "https://localhost:8080/",
          "height": 551
        },
        "id": "Gi6_1SyDxgku",
        "outputId": "a1f28b28-6472-4aba-8c52-e5f4c35746cf"
      },
      "execution_count": 91,
      "outputs": [
        {
          "output_type": "display_data",
          "data": {
            "text/plain": [
              "<Figure size 864x576 with 1 Axes>"
            ],
            "image/png": "[encoded data removed]"
          },
          "metadata": {
            "needs_background": "light"
          }
        }
      ]
    },
    {
      "cell_type": "markdown",
      "source": [
        "Most customers are located in Jakarta, West Java, Papua, Kuching and Ipoh"
      ],
      "metadata": {
        "id": "o6ufxUSqIZSe"
      }
    },
    {
      "cell_type": "code",
      "source": [],
      "metadata": {
        "id": "_Q5FE9QRIYDJ"
      },
      "execution_count": null,
      "outputs": []
    },
    {
      "cell_type": "markdown",
      "source": [
        "Top Hotels by Booking"
      ],
      "metadata": {
        "id": "Uoc3K8Mtx6FU"
      }
    },
    {
      "cell_type": "code",
      "source": [
        "top_hotels_booking=festman_data.groupby(\"Hotel Name\")[\"Booking ID\"].count().sort_values(ascending=False).head()\n",
        "top_hotels_booking"
      ],
      "metadata": {
        "colab": {
          "base_uri": "https://localhost:8080/"
        },
        "id": "vr6ZRLRMx9Of",
        "outputId": "5c53699e-da9c-4358-b98b-a2ff73f77cba"
      },
      "execution_count": 31,
      "outputs": [
        {
          "output_type": "execute_result",
          "data": {
            "text/plain": [
              "Hotel Name\n",
              "Grand Hyatt         221\n",
              "Secret Mirage       146\n",
              "Enchanted Isle      146\n",
              "Ace Hotel           146\n",
              "Inn It To Win It    141\n",
              "Name: Booking ID, dtype: int64"
            ]
          },
          "metadata": {},
          "execution_count": 31
        }
      ]
    },
    {
      "cell_type": "markdown",
      "source": [],
      "metadata": {
        "id": "YHjq7U8rygqW"
      }
    },
    {
      "cell_type": "code",
      "source": [
        "top_hotels_booking.plot(kind=\"bar\", figsize=(12,8), color=\"b\", xlabel=\"Hotel Name\", ylabel=\"Total booking\", title=\"Top Hotels by Booking\")\n",
        "plt.show()"
      ],
      "metadata": {
        "colab": {
          "base_uri": "https://localhost:8080/",
          "height": 576
        },
        "id": "bbptJmKIydy-",
        "outputId": "c6f64edb-8cd3-49fb-d72e-bfe866be97e7"
      },
      "execution_count": 106,
      "outputs": [
        {
          "output_type": "display_data",
          "data": {
            "text/plain": [
              "<Figure size 864x576 with 1 Axes>"
            ],
            "image/png": "[encoded data removed]"
          },
          "metadata": {
            "needs_background": "light"
          }
        }
      ]
    },
    {
      "cell_type": "markdown",
      "source": [
        "The Top Hotels by Booking are Grand Hyatt, Secret Mirage, Enchanted Isle, Ace Hotel and Inn It to Win It"
      ],
      "metadata": {
        "id": "cpTInUsNItwA"
      }
    },
    {
      "cell_type": "markdown",
      "source": [
        "Top Hotels by rating"
      ],
      "metadata": {
        "id": "6wxaxveHy3XU"
      }
    },
    {
      "cell_type": "code",
      "source": [
        "top_hotels_rating=festman_data.groupby(\"Hotel Name\")[\"Hotel Rating\"].mean().sort_values(ascending=False).head(5)\n",
        "top_hotels_rating"
      ],
      "metadata": {
        "colab": {
          "base_uri": "https://localhost:8080/"
        },
        "id": "E-nqJ-S1y8sR",
        "outputId": "31ec6f49-7e81-47fc-8008-d2ddce66f7d4"
      },
      "execution_count": 84,
      "outputs": [
        {
          "output_type": "execute_result",
          "data": {
            "text/plain": [
              "Hotel Name\n",
              "Silver Sun Bed And Breakfast        4.372727\n",
              "Waldorf Astoria Hotels & Resorts    4.357000\n",
              "Moonlight Motel                     4.353125\n",
              "The Maxwell                         4.352252\n",
              "Jack Summer Inn                     4.350549\n",
              "Name: Hotel Rating, dtype: float64"
            ]
          },
          "metadata": {},
          "execution_count": 84
        }
      ]
    },
    {
      "cell_type": "code",
      "source": [
        "top_hotels_rating.plot(kind=\"bar\", color=\"b\", xlabel=\"Hotel Name\",figsize=(12,8), ylabel=\"Average Rating\", title=\"Top Hotels by Average Rating\")\n",
        "plt.show()"
      ],
      "metadata": {
        "colab": {
          "base_uri": "https://localhost:8080/",
          "height": 665
        },
        "id": "aFGcxpAK11Wl",
        "outputId": "b33e53d2-455f-413e-df13-44ca12d8ed10"
      },
      "execution_count": 88,
      "outputs": [
        {
          "output_type": "display_data",
          "data": {
            "text/plain": [
              "<Figure size 864x576 with 1 Axes>"
            ],
            "image/png": "[encoded data removed]"
          },
          "metadata": {
            "needs_background": "light"
          }
        }
      ]
    },
    {
      "cell_type": "markdown",
      "source": [
        "The Top Hotels by average ratings are Silver Sun Bed and Breakfast, Waldorf Astonia Hotels & resorts, Moonlight Motel, The Maxwell and Jack Summer Inn"
      ],
      "metadata": {
        "id": "o44uxZJbI0fY"
      }
    }
  ],
  "metadata": {
    "colab": {
      "provenance": [],
      "collapsed_sections": [],
      "toc_visible": true,
      "authorship_tag": "ABX9TyNJBUmUeiv1FJHtOHcohpvy",
      "include_colab_link": true
    },
    "kernelspec": {
      "display_name": "Python 3",
      "name": "python3"
    },
    "language_info": {
      "name": "python"
    }
  },
  "nbformat": 4,
  "nbformat_minor": 0
}